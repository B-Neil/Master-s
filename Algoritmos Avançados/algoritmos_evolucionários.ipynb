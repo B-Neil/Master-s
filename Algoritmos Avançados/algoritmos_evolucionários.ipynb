{
 "cells": [
  {
   "cell_type": "markdown",
   "metadata": {},
   "source": [
    "# Algoritmos evolucionários"
   ]
  },
  {
   "cell_type": "code",
   "execution_count": 1,
   "metadata": {},
   "outputs": [],
   "source": [
    "from Indiv import Indiv\n",
    "from Popul import Popul\n",
    "from random import randint,random,shuffle"
   ]
  },
  {
   "cell_type": "code",
   "execution_count": 2,
   "metadata": {},
   "outputs": [],
   "source": [
    "class IndivReal (Indiv):\n",
    "\n",
    "    def __init__(self, size, genes=[],lb=0,ub=1):\n",
    "        self.lb= lb\n",
    "        self.ub= ub\n",
    "        self.genes = genes\n",
    "        self.fitness = None\n",
    "        if not self.genes:\n",
    "            self.initRandom(size)\n",
    "\n",
    "    def initRandom(self,size):\n",
    "        self.genes=[]\n",
    "        for _ in range(size):\n",
    "            self.genes.append(randint(0,self.ub))\n",
    "    \n",
    "    def mutation(self):\n",
    "        s = len(self.genes)\n",
    "        pos = randint(0,s-1)\n",
    "        self.genes[pos] = randint(0,self.ub)"
   ]
  },
  {
   "cell_type": "code",
   "execution_count": 3,
   "metadata": {},
   "outputs": [
    {
     "ename": "SyntaxError",
     "evalue": "incomplete input (2197623522.py, line 2)",
     "output_type": "error",
     "traceback": [
      "\u001b[1;36m  Cell \u001b[1;32mIn[3], line 2\u001b[1;36m\u001b[0m\n\u001b[1;33m    \u001b[0m\n\u001b[1;37m    ^\u001b[0m\n\u001b[1;31mSyntaxError\u001b[0m\u001b[1;31m:\u001b[0m incomplete input\n"
     ]
    }
   ],
   "source": [
    "class PopulReal (Popul):\n",
    "\n",
    "    def __init__(self, popsize, indsize, indivs=[]):\n",
    "        self.popsize = popsize\n",
    "        self.indsize = indsize\n",
    "        if indivs:\n",
    "            self.indivs = indivs\n",
    "        else:\n",
    "            self.initRandomPop()\n",
    "\n",
    "    def initRandomPop(self):\n",
    "        self.indivs = []\n",
    "        for _ in range(self.popsize):\n",
    "            indiv_i = Indiv(self.indsize, [])\n",
    "            self.indivs.append(indiv_i)\n",
    "    "
   ]
  },
  {
   "cell_type": "code",
   "execution_count": null,
   "metadata": {},
   "outputs": [],
   "source": []
  }
 ],
 "metadata": {
  "kernelspec": {
   "display_name": "Python 3",
   "language": "python",
   "name": "python3"
  },
  "language_info": {
   "codemirror_mode": {
    "name": "ipython",
    "version": 3
   },
   "file_extension": ".py",
   "mimetype": "text/x-python",
   "name": "python",
   "nbconvert_exporter": "python",
   "pygments_lexer": "ipython3",
   "version": "3.12.0"
  }
 },
 "nbformat": 4,
 "nbformat_minor": 2
}
