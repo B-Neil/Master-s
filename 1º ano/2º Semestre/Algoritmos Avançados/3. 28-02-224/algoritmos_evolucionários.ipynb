{
 "cells": [
  {
   "cell_type": "markdown",
   "metadata": {},
   "source": [
    "# Algoritmos evolucionários"
   ]
  },
  {
   "cell_type": "code",
   "execution_count": 8,
   "metadata": {},
   "outputs": [],
   "source": [
    "from Indiv import Indiv\n",
    "from Popul import Popul\n",
    "from random import randint,random,shuffle"
   ]
  },
  {
   "cell_type": "code",
   "execution_count": 7,
   "metadata": {},
   "outputs": [],
   "source": [
    "class IndivReal (Indiv):\n",
    "\n",
    "    def __init__(self, size, genes=[],lb=0,ub=1):\n",
    "        self.lb= lb\n",
    "        self.ub= ub\n",
    "        self.genes = genes\n",
    "        self.fitness = None\n",
    "        if not self.genes:\n",
    "            self.initRandom(size)\n",
    "\n",
    "    def initRandom(self,size):\n",
    "        self.genes=[]\n",
    "        for _ in range(size):\n",
    "            self.genes.append(randint(0,self.ub))\n",
    "    \n",
    "    def mutation(self):\n",
    "        s = len(self.genes)\n",
    "        pos = randint(0,s-1)\n",
    "        self.genes[pos] = randint(0,self.ub)"
   ]
  },
  {
   "cell_type": "code",
   "execution_count": null,
   "metadata": {},
   "outputs": [],
   "source": [
    "class PopulReal (Popul):\n",
    "    "
   ]
  }
 ],
 "metadata": {
  "kernelspec": {
   "display_name": "Python 3",
   "language": "python",
   "name": "python3"
  },
  "language_info": {
   "codemirror_mode": {
    "name": "ipython",
    "version": 3
   },
   "file_extension": ".py",
   "mimetype": "text/x-python",
   "name": "python",
   "nbconvert_exporter": "python",
   "pygments_lexer": "ipython3",
   "version": "3.12.0"
  }
 },
 "nbformat": 4,
 "nbformat_minor": 2
}
