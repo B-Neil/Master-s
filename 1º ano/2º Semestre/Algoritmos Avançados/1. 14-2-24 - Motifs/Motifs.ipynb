{
 "cells": [
  {
   "cell_type": "markdown",
   "metadata": {},
   "source": [
    "# Motifs"
   ]
  },
  {
   "cell_type": "code",
   "execution_count": 2,
   "metadata": {},
   "outputs": [],
   "source": [
    "from collections import Counter\n",
    "\n",
    "def Most_Common(lst):\n",
    "    data = Counter(lst)\n",
    "    return data.most_common(1)[0][0]\n",
    "\n",
    "\n",
    "def proc_exaust(list_seq:list[str], l:int)->list[int]:\n",
    "    \"\"\"\n",
    "    Fazer um assert para todas as sequencias da lista terem o mesmo tamanho\n",
    "    Recebe uma lista de sequencias e o tamanho do motif\n",
    "    pegar na lista de sequencias e dividi las nas subsequencias\n",
    "    pegar nessa subsequencia em todas as sequencias da lista de sequencias\n",
    "   \n",
    "    Continuar a descrição da funçao em casa\n",
    "\n",
    "    \"\"\"\n",
    "\n",
    "    pass\n",
    "    \n",
    "    for i in range(list_seq):\n",
    "    assert len(list_seq[0])==len(list_seq[i])\n",
    "    \n",
    "    best_Score=0\n",
    "    n=len(list_seq[0])\n",
    "    t=len(list_seq)\n",
    "    s=[]\n",
    "    results=[]\n",
    "    for i in range(n):\n",
    "        char=[]\n",
    "        sub_seq=[]\n",
    "        for j in range(t):\n",
    "            sub_seq.append(zip(list_seq[j[i:i+l]]))\n",
    "        for k in range(l):\n",
    "            for i in range(sub_seq[1]):\n",
    "                char.append(sub_seq[i[k]])\n",
    "            \n",
    "            \n",
    "            most_frequent=Most_Common(char)\n",
    "            results.append(char.count(most_frequent))\n",
    "\n",
    "    score=sum(results)\n",
    "    if score>best_Score:\n",
    "        best_Score=score\n",
    "        s.append(sub_seq[0])\n",
    "\n",
    "    return s\n",
    "\n",
    "\n",
    "    \n",
    "\n"
   ]
  },
  {
   "cell_type": "code",
   "execution_count": null,
   "metadata": {},
   "outputs": [],
   "source": [
    "test=[\"acgtcgt\",\"acgtcct\",\"acgtttt\"]"
   ]
  },
  {
   "cell_type": "code",
   "execution_count": 11,
   "metadata": {},
   "outputs": [],
   "source": [
    "def score (list_seq:list[str])-> int:\n",
    "    pass\n",
    "\n",
    "        "
   ]
  },
  {
   "cell_type": "code",
   "execution_count": 9,
   "metadata": {},
   "outputs": [
    {
     "name": "stdout",
     "output_type": "stream",
     "text": [
      "acgtcct\n"
     ]
    }
   ],
   "source": [
    "print(test[1])"
   ]
  },
  {
   "cell_type": "code",
   "execution_count": null,
   "metadata": {},
   "outputs": [],
   "source": [
    "def prox(list_seq,l,s:list[int]) -> list[int]:\n",
    "    pass\n"
   ]
  }
 ],
 "metadata": {
  "kernelspec": {
   "display_name": "Python 3",
   "language": "python",
   "name": "python3"
  },
  "language_info": {
   "codemirror_mode": {
    "name": "ipython",
    "version": 3
   },
   "file_extension": ".py",
   "mimetype": "text/x-python",
   "name": "python",
   "nbconvert_exporter": "python",
   "pygments_lexer": "ipython3",
   "version": "3.12.0"
  }
 },
 "nbformat": 4,
 "nbformat_minor": 2
}
