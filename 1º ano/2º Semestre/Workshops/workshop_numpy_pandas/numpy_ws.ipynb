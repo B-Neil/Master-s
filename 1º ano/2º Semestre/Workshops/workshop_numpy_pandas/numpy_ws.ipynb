{
 "cells": [
  {
   "cell_type": "markdown",
   "metadata": {},
   "source": [
    "# NumPy\n",
    "\n",
    "The fundamental package for scientific computing with Python."
   ]
  },
  {
   "cell_type": "markdown",
   "metadata": {
    "pycharm": {
     "name": "#%% md\n"
    }
   },
   "source": [
    "## How to use numpy"
   ]
  },
  {
   "cell_type": "code",
   "execution_count": 1,
   "metadata": {
    "ExecuteTime": {
     "end_time": "2024-02-28T17:06:29.349287Z",
     "start_time": "2024-02-28T17:06:29.258670Z"
    }
   },
   "outputs": [],
   "source": [
    "import numpy as np"
   ]
  },
  {
   "cell_type": "markdown",
   "metadata": {},
   "source": [
    "## Arrays\n",
    "\n",
    "An *array* is the main data structure of *NumPy*.\n",
    "An array consists of a grid of values, and it contains information about the raw data, how to locate an element,\n",
    "and how to interpret an element. It has a grid of elements that can be indexed in various ways."
   ]
  },
  {
   "cell_type": "code",
   "execution_count": 2,
   "metadata": {
    "ExecuteTime": {
     "end_time": "2024-02-28T17:06:30.563579Z",
     "start_time": "2024-02-28T17:06:30.560577Z"
    }
   },
   "outputs": [
    {
     "name": "stdout",
     "output_type": "stream",
     "text": [
      "[2 3 4]\n",
      "(3,)\n"
     ]
    }
   ],
   "source": [
    "# 1-d array\n",
    "a = np.array([2,3,4])\n",
    "\n",
    "print(a)\n",
    "print(a.shape)"
   ]
  },
  {
   "cell_type": "code",
   "execution_count": 3,
   "metadata": {
    "ExecuteTime": {
     "end_time": "2024-02-28T17:06:31.014134Z",
     "start_time": "2024-02-28T17:06:31.010391Z"
    }
   },
   "outputs": [
    {
     "name": "stdout",
     "output_type": "stream",
     "text": [
      "[[1 2 3]\n",
      " [4 5 6]]\n",
      "(2, 3)\n"
     ]
    }
   ],
   "source": [
    "# 2-d arrays\n",
    "b = np.array([[1,2,3], [4,5,6]])\n",
    "\n",
    "print(b)\n",
    "print(b.shape)"
   ]
  },
  {
   "cell_type": "markdown",
   "metadata": {},
   "source": [
    "## Arrays vs Lists/Tuples/Sequences\n",
    "\n",
    "Usually arrays are built from *list* and *tuples*, or other Python *iterables* and *sequences*"
   ]
  },
  {
   "cell_type": "code",
   "execution_count": 4,
   "metadata": {
    "ExecuteTime": {
     "end_time": "2024-02-28T17:06:32.237087Z",
     "start_time": "2024-02-28T17:06:32.216627Z"
    }
   },
   "outputs": [
    {
     "name": "stdout",
     "output_type": "stream",
     "text": [
      "[[1, 2, 3], [4, 5, 6]]\n",
      "2 \n",
      "\n",
      "[[1 2 3]\n",
      " [4 5 6]]\n",
      "(2, 3)\n"
     ]
    }
   ],
   "source": [
    "this_is_a_list_of_lists = [[1,2,3], [4,5,6]]\n",
    "\n",
    "this_is_an_array = np.array(this_is_a_list_of_lists)\n",
    "\n",
    "print(this_is_a_list_of_lists)\n",
    "print(len(this_is_a_list_of_lists), '\\n')\n",
    "\n",
    "print(this_is_an_array)\n",
    "print(this_is_an_array.shape)"
   ]
  },
  {
   "cell_type": "markdown",
   "metadata": {},
   "source": [
    "And if I try to see an *array* as *list* or a *list* as an *array* ...\n",
    "Hint: it will fail!"
   ]
  },
  {
   "cell_type": "code",
   "execution_count": 5,
   "metadata": {
    "ExecuteTime": {
     "end_time": "2024-02-28T17:06:33.359708Z",
     "start_time": "2024-02-28T17:06:33.114031Z"
    }
   },
   "outputs": [
    {
     "ename": "AttributeError",
     "evalue": "'numpy.ndarray' object has no attribute 'append'",
     "output_type": "error",
     "traceback": [
      "\u001b[0;31m---------------------------------------------------------------------------\u001b[0m",
      "\u001b[0;31mAttributeError\u001b[0m                            Traceback (most recent call last)",
      "Cell \u001b[0;32mIn[5], line 1\u001b[0m\n\u001b[0;32m----> 1\u001b[0m \u001b[43mthis_is_an_array\u001b[49m\u001b[38;5;241;43m.\u001b[39;49m\u001b[43mappend\u001b[49m(\u001b[38;5;241m0\u001b[39m)\n",
      "\u001b[0;31mAttributeError\u001b[0m: 'numpy.ndarray' object has no attribute 'append'"
     ]
    }
   ],
   "source": [
    "this_is_an_array.append(0)"
   ]
  },
  {
   "cell_type": "code",
   "execution_count": 6,
   "metadata": {
    "ExecuteTime": {
     "end_time": "2024-02-28T17:06:33.462442Z",
     "start_time": "2024-02-28T17:06:33.454956Z"
    }
   },
   "outputs": [
    {
     "ename": "AttributeError",
     "evalue": "'list' object has no attribute 'shape'",
     "output_type": "error",
     "traceback": [
      "\u001b[0;31m---------------------------------------------------------------------------\u001b[0m",
      "\u001b[0;31mAttributeError\u001b[0m                            Traceback (most recent call last)",
      "Cell \u001b[0;32mIn[6], line 1\u001b[0m\n\u001b[0;32m----> 1\u001b[0m \u001b[43mthis_is_a_list_of_lists\u001b[49m\u001b[38;5;241;43m.\u001b[39;49m\u001b[43mshape\u001b[49m\n",
      "\u001b[0;31mAttributeError\u001b[0m: 'list' object has no attribute 'shape'"
     ]
    }
   ],
   "source": [
    "this_is_a_list_of_lists.shape"
   ]
  },
  {
   "cell_type": "markdown",
   "metadata": {},
   "source": [
    "## How to create *arrays*?"
   ]
  },
  {
   "cell_type": "code",
   "execution_count": 7,
   "metadata": {
    "ExecuteTime": {
     "end_time": "2024-02-28T17:06:37.628312Z",
     "start_time": "2024-02-28T17:06:37.626241Z"
    }
   },
   "outputs": [
    {
     "name": "stdout",
     "output_type": "stream",
     "text": [
      "[[1 2 3]\n",
      " [4 5 6]]\n",
      "(2, 3)\n"
     ]
    }
   ],
   "source": [
    "# from lists\n",
    "b = np.array([[1,2,3], [4,5,6]])\n",
    "\n",
    "print(b)\n",
    "print(b.shape)"
   ]
  },
  {
   "cell_type": "code",
   "execution_count": 8,
   "metadata": {
    "ExecuteTime": {
     "end_time": "2024-02-28T17:06:38.211081Z",
     "start_time": "2024-02-28T17:06:38.205202Z"
    }
   },
   "outputs": [
    {
     "name": "stdout",
     "output_type": "stream",
     "text": [
      "[[1 2 3]\n",
      " [4 5 6]]\n",
      "(2, 3)\n"
     ]
    }
   ],
   "source": [
    "# from tuples\n",
    "tuples = ((1,2,3), (4,5,6))\n",
    "b = np.array(tuples)\n",
    "\n",
    "print(b)\n",
    "print(b.shape)"
   ]
  },
  {
   "cell_type": "code",
   "execution_count": 9,
   "metadata": {
    "ExecuteTime": {
     "end_time": "2024-02-28T17:06:38.832424Z",
     "start_time": "2024-02-28T17:06:38.829504Z"
    }
   },
   "outputs": [
    {
     "name": "stdout",
     "output_type": "stream",
     "text": [
      "[[0. 0. 0. 0.]\n",
      " [0. 0. 0. 0.]\n",
      " [0. 0. 0. 0.]]\n",
      "(3, 4)\n"
     ]
    }
   ],
   "source": [
    "# from zeros\n",
    "shape = (3, 4)\n",
    "b = np.zeros(shape)\n",
    "\n",
    "print(b)\n",
    "print(b.shape)"
   ]
  },
  {
   "cell_type": "code",
   "execution_count": 10,
   "metadata": {
    "ExecuteTime": {
     "end_time": "2024-02-28T17:06:39.372158Z",
     "start_time": "2024-02-28T17:06:39.368876Z"
    }
   },
   "outputs": [
    {
     "name": "stdout",
     "output_type": "stream",
     "text": [
      "[[1. 1. 1. 1.]\n",
      " [1. 1. 1. 1.]\n",
      " [1. 1. 1. 1.]]\n",
      "(3, 4)\n"
     ]
    }
   ],
   "source": [
    "# from ones\n",
    "shape = (3, 4)\n",
    "b = np.ones(shape)\n",
    "\n",
    "print(b)\n",
    "print(b.shape)"
   ]
  },
  {
   "cell_type": "code",
   "execution_count": 11,
   "metadata": {
    "ExecuteTime": {
     "end_time": "2024-02-28T17:06:40.024647Z",
     "start_time": "2024-02-28T17:06:40.022239Z"
    }
   },
   "outputs": [
    {
     "name": "stdout",
     "output_type": "stream",
     "text": [
      "[0 1 2 3 4 5 6 7 8 9]\n",
      "(10,)\n"
     ]
    }
   ],
   "source": [
    "# from a range of numbers\n",
    "start = 0\n",
    "end = 10\n",
    "interval = 1\n",
    "b = np.arange(start, end, interval)\n",
    "\n",
    "print(b)\n",
    "print(b.shape)"
   ]
  },
  {
   "cell_type": "code",
   "execution_count": 12,
   "metadata": {
    "ExecuteTime": {
     "end_time": "2024-02-28T17:06:40.412363Z",
     "start_time": "2024-02-28T17:06:40.409209Z"
    }
   },
   "outputs": [
    {
     "name": "stdout",
     "output_type": "stream",
     "text": [
      "[0.   0.33 0.66 0.99]\n",
      "(4,) \n",
      "\n",
      "[0.         0.33333333 0.66666667]\n",
      "(3,)\n"
     ]
    }
   ],
   "source": [
    "# from a range of numbers equally distributed\n",
    "start = 0\n",
    "end = 1\n",
    "interval = 0.33\n",
    "b = np.arange(start, end, interval)\n",
    "\n",
    "print(b)\n",
    "print(b.shape, '\\n')\n",
    "\n",
    "start = 0\n",
    "end = 1\n",
    "number_of_intervals = 3\n",
    "b = np.linspace(start, end, number_of_intervals, endpoint=False)\n",
    "\n",
    "print(b)\n",
    "print(b.shape)"
   ]
  },
  {
   "cell_type": "markdown",
   "metadata": {},
   "source": [
    "## Basic Operations with arrays\n",
    "\n",
    "Some Python operators do not have the expected behavior with *arrays*!!!"
   ]
  },
  {
   "cell_type": "code",
   "execution_count": 13,
   "metadata": {
    "ExecuteTime": {
     "end_time": "2024-02-28T17:06:41.511719Z",
     "start_time": "2024-02-28T17:06:41.507047Z"
    }
   },
   "outputs": [
    {
     "name": "stdout",
     "output_type": "stream",
     "text": [
      "a\n",
      "[[1 2 3]\n",
      " [4 5 6]]\n",
      "(2, 3) \n",
      "\n",
      "b\n",
      "[[1 2 3]\n",
      " [4 5 6]]\n",
      "(2, 3) \n",
      "\n",
      "c\n",
      "[[ 2  4  6]\n",
      " [ 8 10 12]]\n",
      "(2, 3)\n"
     ]
    }
   ],
   "source": [
    "# addition\n",
    "\n",
    "a = np.array([[1,2,3], [4,5,6]])\n",
    "\n",
    "print('a')\n",
    "print(a)\n",
    "print(a.shape, '\\n')\n",
    "\n",
    "b = np.array([[1,2,3], [4,5,6]])\n",
    "\n",
    "print('b')\n",
    "print(b)\n",
    "print(b.shape, '\\n')\n",
    "\n",
    "c = a + b\n",
    "\n",
    "print('c')\n",
    "print(c)\n",
    "print(c.shape)"
   ]
  },
  {
   "cell_type": "code",
   "execution_count": 14,
   "metadata": {
    "ExecuteTime": {
     "end_time": "2024-02-28T17:06:42.058834Z",
     "start_time": "2024-02-28T17:06:42.056488Z"
    }
   },
   "outputs": [
    {
     "name": "stdout",
     "output_type": "stream",
     "text": [
      "a\n",
      "[[1 2 3]\n",
      " [4 5 6]]\n",
      "(2, 3) \n",
      "\n",
      "b\n",
      "[[1 2 3]\n",
      " [4 5 6]]\n",
      "(2, 3) \n",
      "\n",
      "c\n",
      "[[0 0 0]\n",
      " [0 0 0]]\n",
      "(2, 3)\n"
     ]
    }
   ],
   "source": [
    "# subtraction\n",
    "\n",
    "a = np.array([[1,2,3], [4,5,6]])\n",
    "\n",
    "print('a')\n",
    "print(a)\n",
    "print(a.shape, '\\n')\n",
    "\n",
    "b = np.array([[1,2,3], [4,5,6]])\n",
    "\n",
    "print('b')\n",
    "print(b)\n",
    "print(b.shape, '\\n')\n",
    "\n",
    "c = a - b\n",
    "\n",
    "print('c')\n",
    "print(c)\n",
    "print(c.shape)"
   ]
  },
  {
   "cell_type": "code",
   "execution_count": 15,
   "metadata": {
    "ExecuteTime": {
     "end_time": "2024-02-28T17:06:42.515244Z",
     "start_time": "2024-02-28T17:06:42.512147Z"
    }
   },
   "outputs": [
    {
     "name": "stdout",
     "output_type": "stream",
     "text": [
      "a\n",
      "[[1 2 3]\n",
      " [4 5 6]]\n",
      "(2, 3) \n",
      "\n",
      "c\n",
      "[[ 2  4  6]\n",
      " [ 8 10 12]]\n",
      "(2, 3)\n"
     ]
    }
   ],
   "source": [
    "# multiplying by a number\n",
    "\n",
    "a = np.array([[1,2,3], [4,5,6]])\n",
    "\n",
    "print('a')\n",
    "print(a)\n",
    "print(a.shape, '\\n')\n",
    "\n",
    "b = 2\n",
    "\n",
    "c = a * b\n",
    "\n",
    "print('c')\n",
    "print(c)\n",
    "print(c.shape)"
   ]
  },
  {
   "cell_type": "code",
   "execution_count": 16,
   "metadata": {
    "ExecuteTime": {
     "end_time": "2024-02-28T17:06:43.069068Z",
     "start_time": "2024-02-28T17:06:43.063809Z"
    }
   },
   "outputs": [
    {
     "name": "stdout",
     "output_type": "stream",
     "text": [
      "a\n",
      "[[1 2 3]\n",
      " [4 5 6]]\n",
      "(2, 3) \n",
      "\n",
      "c\n",
      "[[ 1  4  9]\n",
      " [16 25 36]]\n",
      "(2, 3)\n"
     ]
    }
   ],
   "source": [
    "# exponentiation\n",
    "\n",
    "a = np.array([[1,2,3], [4,5,6]])\n",
    "\n",
    "print('a')\n",
    "print(a)\n",
    "print(a.shape, '\\n')\n",
    "\n",
    "c = a ** 2\n",
    "\n",
    "print('c')\n",
    "print(c)\n",
    "print(c.shape)"
   ]
  },
  {
   "cell_type": "markdown",
   "metadata": {},
   "source": [
    "But what about multiplying two *arrays*??"
   ]
  },
  {
   "cell_type": "code",
   "execution_count": 17,
   "metadata": {
    "ExecuteTime": {
     "end_time": "2024-02-28T17:06:44.024352Z",
     "start_time": "2024-02-28T17:06:44.022074Z"
    }
   },
   "outputs": [
    {
     "name": "stdout",
     "output_type": "stream",
     "text": [
      "a\n",
      "[[1 2 3]\n",
      " [4 5 6]]\n",
      "(2, 3) \n",
      "\n",
      "b\n",
      "[[1 2 3]\n",
      " [4 5 6]]\n",
      "(2, 3) \n",
      "\n",
      "c\n",
      "[[ 1  4  9]\n",
      " [16 25 36]]\n",
      "(2, 3)\n"
     ]
    }
   ],
   "source": [
    "# multiplication\n",
    "\n",
    "a = np.array([[1,2,3], [4,5,6]])\n",
    "\n",
    "print('a')\n",
    "print(a)\n",
    "print(a.shape, '\\n')\n",
    "\n",
    "b = np.array([[1,2,3], [4,5,6]])\n",
    "\n",
    "print('b')\n",
    "print(b)\n",
    "print(b.shape, '\\n')\n",
    "\n",
    "c = a * b\n",
    "\n",
    "print('c')\n",
    "print(c)\n",
    "print(c.shape)\n",
    "\n",
    "# multiplicação de matrizes não é feita de forma correta"
   ]
  },
  {
   "cell_type": "markdown",
   "metadata": {},
   "source": [
    "The * operator performs element-wise multiplication of the *arrays*"
   ]
  },
  {
   "cell_type": "code",
   "execution_count": 18,
   "metadata": {
    "ExecuteTime": {
     "end_time": "2024-02-28T17:06:44.886168Z",
     "start_time": "2024-02-28T17:06:44.883342Z"
    }
   },
   "outputs": [
    {
     "name": "stdout",
     "output_type": "stream",
     "text": [
      "a\n",
      "[[1 2 3]\n",
      " [4 5 6]]\n",
      "(2, 3) \n",
      "\n",
      "b\n",
      "[[1 2 3]\n",
      " [4 5 6]]\n",
      "(2, 3) \n",
      "\n",
      "c\n",
      "[[1. 1. 1.]\n",
      " [1. 1. 1.]]\n",
      "(2, 3)\n"
     ]
    }
   ],
   "source": [
    "# division\n",
    "\n",
    "a = np.array([[1,2,3], [4,5,6]])\n",
    "\n",
    "print('a')\n",
    "print(a)\n",
    "print(a.shape, '\\n')\n",
    "\n",
    "b = np.array([[1,2,3], [4,5,6]])\n",
    "\n",
    "print('b')\n",
    "print(b)\n",
    "print(b.shape, '\\n')\n",
    "\n",
    "c = a / b\n",
    "# divisão de matrizes nao é feita de forma correta\n",
    "\n",
    "print('c')\n",
    "print(c)\n",
    "print(c.shape)"
   ]
  },
  {
   "cell_type": "markdown",
   "metadata": {},
   "source": [
    "The / operator performs element-wise division of the *arrays*"
   ]
  },
  {
   "cell_type": "markdown",
   "metadata": {
    "pycharm": {
     "name": "#%% md\n"
    }
   },
   "source": [
    "## Array descriptive analysis"
   ]
  },
  {
   "cell_type": "code",
   "execution_count": 19,
   "metadata": {
    "ExecuteTime": {
     "end_time": "2024-02-28T17:06:46.205222Z",
     "start_time": "2024-02-28T17:06:46.195407Z"
    }
   },
   "outputs": [
    {
     "name": "stdout",
     "output_type": "stream",
     "text": [
      "a\n",
      "[[1 2 3]\n",
      " [4 5 6]]\n",
      "(2, 3) \n",
      "\n",
      "sum of the rows [5 7 9], and sum of the columns [ 6 15]\n",
      "max of the rows [4 5 6], and max of the columns [3 6]\n",
      "max of the rows [1 2 3], and max of the columns [1 4]\n",
      "sum 21, max 6 and min 1\n",
      "mean 3.5\n"
     ]
    }
   ],
   "source": [
    "# sum, min, max, mean, ...\n",
    "\n",
    "a = np.array([[1,2,3], [4,5,6]])\n",
    "\n",
    "print('a')\n",
    "print(a)\n",
    "print(a.shape, '\\n')\n",
    "\n",
    "print(f'sum of the rows {a.sum(axis=0)}, and sum of the columns {a.sum(axis=1)}')\n",
    "print(f'max of the rows {a.max(axis=0)}, and max of the columns {a.max(axis=1)}')\n",
    "print(f'max of the rows {a.min(axis=0)}, and max of the columns {a.min(axis=1)}')\n",
    "print(f'sum {a.sum()}, max {a.max()} and min {a.min()}')\n",
    "print(f'mean {a.mean()}')"
   ]
  },
  {
   "cell_type": "markdown",
   "metadata": {},
   "source": [
    "## Basic Operations with arrays using NumPy functions\n",
    "\n",
    "Some Python operators do not have the expected behavior with *arrays*!!!\n",
    "So, we have *NumPy* functions to achieve the desired behavior!"
   ]
  },
  {
   "cell_type": "code",
   "execution_count": 20,
   "metadata": {
    "ExecuteTime": {
     "end_time": "2024-02-28T17:06:47.635956Z",
     "start_time": "2024-02-28T17:06:47.633143Z"
    }
   },
   "outputs": [
    {
     "name": "stdout",
     "output_type": "stream",
     "text": [
      "a\n",
      "[[1 2 3]\n",
      " [4 5 6]]\n",
      "(2, 3) \n",
      "\n",
      "b\n",
      "[[1 2]\n",
      " [3 4]\n",
      " [5 6]]\n",
      "(3, 2) \n",
      "\n",
      "c\n",
      "[[22 28]\n",
      " [49 64]]\n",
      "(2, 2)\n"
     ]
    }
   ],
   "source": [
    "# multiplication\n",
    "\n",
    "a = np.array([[1,2,3], [4,5,6]])\n",
    "\n",
    "print('a')\n",
    "print(a)\n",
    "print(a.shape, '\\n')\n",
    "\n",
    "b = np.array([[1,2], [3,4], [5,6]])\n",
    "\n",
    "print('b')\n",
    "print(b)\n",
    "print(b.shape, '\\n')\n",
    "\n",
    "c = np.dot(a, b) # multiplicação de matrizes, verificar se cumrre o requesito do numero de linhas e de colunas\n",
    "\n",
    "print('c')\n",
    "print(c)\n",
    "print(c.shape)"
   ]
  },
  {
   "cell_type": "markdown",
   "metadata": {},
   "source": [
    "And remember, the number of rows of A must be the same as the number of columns of b!!"
   ]
  },
  {
   "cell_type": "code",
   "execution_count": 21,
   "metadata": {
    "ExecuteTime": {
     "end_time": "2024-02-28T17:06:48.658642Z",
     "start_time": "2024-02-28T17:06:48.630445Z"
    }
   },
   "outputs": [
    {
     "name": "stdout",
     "output_type": "stream",
     "text": [
      "a\n",
      "[[1 2 3]\n",
      " [4 5 6]]\n",
      "(2, 3) \n",
      "\n",
      "b\n",
      "[[1 2 3]\n",
      " [4 5 6]]\n",
      "(2, 3) \n"
     ]
    },
    {
     "ename": "ValueError",
     "evalue": "shapes (2,3) and (2,3) not aligned: 3 (dim 1) != 2 (dim 0)",
     "output_type": "error",
     "traceback": [
      "\u001b[0;31m---------------------------------------------------------------------------\u001b[0m",
      "\u001b[0;31mValueError\u001b[0m                                Traceback (most recent call last)",
      "Cell \u001b[0;32mIn[21], line 15\u001b[0m\n\u001b[1;32m     12\u001b[0m \u001b[38;5;28mprint\u001b[39m(b)\n\u001b[1;32m     13\u001b[0m \u001b[38;5;28mprint\u001b[39m(b\u001b[38;5;241m.\u001b[39mshape, \u001b[38;5;124m'\u001b[39m\u001b[38;5;130;01m\\n\u001b[39;00m\u001b[38;5;124m'\u001b[39m)\n\u001b[0;32m---> 15\u001b[0m c \u001b[38;5;241m=\u001b[39m \u001b[43mnp\u001b[49m\u001b[38;5;241;43m.\u001b[39;49m\u001b[43mdot\u001b[49m\u001b[43m(\u001b[49m\u001b[43ma\u001b[49m\u001b[43m,\u001b[49m\u001b[43m \u001b[49m\u001b[43mb\u001b[49m\u001b[43m)\u001b[49m\n\u001b[1;32m     17\u001b[0m \u001b[38;5;28mprint\u001b[39m(\u001b[38;5;124m'\u001b[39m\u001b[38;5;124mc\u001b[39m\u001b[38;5;124m'\u001b[39m)\n\u001b[1;32m     18\u001b[0m \u001b[38;5;28mprint\u001b[39m(c)\n",
      "\u001b[0;31mValueError\u001b[0m: shapes (2,3) and (2,3) not aligned: 3 (dim 1) != 2 (dim 0)"
     ]
    }
   ],
   "source": [
    "# impossible multiplication\n",
    "\n",
    "a = np.array([[1,2,3], [4,5,6]])\n",
    "\n",
    "print('a')\n",
    "print(a)\n",
    "print(a.shape, '\\n')\n",
    "\n",
    "b = np.array([[1,2,3], [4,5,6]])\n",
    "\n",
    "print('b')\n",
    "print(b)\n",
    "print(b.shape, '\\n')\n",
    "\n",
    "c = np.dot(a, b)\n",
    "\n",
    "print('c')\n",
    "print(c)\n",
    "print(c.shape)"
   ]
  },
  {
   "cell_type": "markdown",
   "metadata": {},
   "source": [
    "Remember to perform a division between two *arrays*,\n",
    "we must convert one of the *arrays* into its inverse form"
   ]
  },
  {
   "cell_type": "code",
   "execution_count": 22,
   "metadata": {
    "ExecuteTime": {
     "end_time": "2024-02-28T17:06:52.797775Z",
     "start_time": "2024-02-28T17:06:52.782261Z"
    }
   },
   "outputs": [
    {
     "name": "stdout",
     "output_type": "stream",
     "text": [
      "a\n",
      "[[1 2 3]\n",
      " [4 5 6]\n",
      " [4 5 6]]\n",
      "(3, 3) \n",
      "\n",
      "b_inverse\n",
      "[[0.75 0.5  0.25]\n",
      " [0.5  1.   0.5 ]\n",
      " [0.25 0.5  0.75]]\n",
      "(3, 3) \n",
      "\n",
      "c\n",
      "[[ 2.5  4.   3.5]\n",
      " [ 7.  10.   8. ]\n",
      " [ 7.  10.   8. ]]\n",
      "(3, 3)\n"
     ]
    }
   ],
   "source": [
    "# division\n",
    "\n",
    "a = np.array([[1,2,3], [4,5,6], [4,5,6]])\n",
    "\n",
    "print('a')\n",
    "print(a)\n",
    "print(a.shape, '\\n')\n",
    "\n",
    "b = np.array([[2,-1,0], [-1,2,-1], [0,-1,2]])\n",
    "b_inverse = np.linalg.inv(b) # inverso não é transposta\n",
    "print('b_inverse')\n",
    "print(b_inverse)\n",
    "print(b_inverse.shape, '\\n')\n",
    "\n",
    "c = np.dot(a, b_inverse)\n",
    "\n",
    "print('c')\n",
    "print(c)\n",
    "print(c.shape)"
   ]
  },
  {
   "cell_type": "markdown",
   "metadata": {},
   "source": [
    "## Indexing, Slicing and Iterating\n",
    "\n",
    "`np.array[indexes or slices for rows, indexes or slices for columns]`\n",
    "\n",
    "An `int` object, for instance 0 or 1 or 2 can be indexes\n",
    "\n",
    "A `slice` is composed as follows: `0:10:1`\n",
    "In this case, 0 is start, 10 is end (non-inclusive) and 1 is the interval\n",
    "\n",
    "Indexing creates a sub-view of the *array*, but does not perform a copy!!"
   ]
  },
  {
   "cell_type": "code",
   "execution_count": 23,
   "metadata": {
    "ExecuteTime": {
     "end_time": "2024-02-28T17:06:53.712556Z",
     "start_time": "2024-02-28T17:06:53.708731Z"
    }
   },
   "outputs": [
    {
     "name": "stdout",
     "output_type": "stream",
     "text": [
      "a\n",
      "[[1 2 3]\n",
      " [4 5 6]]\n",
      "(2, 3) \n",
      "\n",
      "b\n",
      "6\n",
      "() \n",
      "\n",
      "c\n",
      "3\n",
      "()\n"
     ]
    }
   ],
   "source": [
    "# indexes\n",
    "a = np.array([[1,2,3], [4,5,6]])\n",
    "\n",
    "print('a')\n",
    "print(a)\n",
    "print(a.shape, '\\n')\n",
    "\n",
    "b = a[1,2] # para selecionar um elemento de uma lisat, começa em 0 como o python\n",
    "\n",
    "print('b')\n",
    "print(b)\n",
    "print(b.shape, '\\n')\n",
    "\n",
    "c = a[0,2]\n",
    "\n",
    "print('c')\n",
    "print(c)\n",
    "print(c.shape)"
   ]
  },
  {
   "cell_type": "code",
   "execution_count": 24,
   "metadata": {
    "ExecuteTime": {
     "end_time": "2024-02-28T17:06:54.160805Z",
     "start_time": "2024-02-28T17:06:54.155954Z"
    }
   },
   "outputs": [
    {
     "name": "stdout",
     "output_type": "stream",
     "text": [
      "a\n",
      "[[1 2 3]\n",
      " [4 5 6]]\n",
      "(2, 3) \n",
      "\n",
      "b\n",
      "[3 6]\n",
      "(2,) \n",
      "\n",
      "c\n",
      "[4 5 6]\n",
      "(3,) \n",
      "\n",
      "d\n",
      "[[1 2 3]\n",
      " [4 5 6]]\n",
      "(2, 3) \n",
      "\n",
      "e\n",
      "[[1 3]]\n",
      "(1, 2) \n",
      "\n",
      "f\n",
      "[1 2 3]\n",
      "(3,) \n",
      "\n",
      "g\n",
      "[1]\n",
      "(1,) \n",
      "\n",
      "h\n",
      "[2 3]\n",
      "(2,) \n",
      "\n",
      "i\n",
      "[5 6]\n",
      "(2,) \n"
     ]
    }
   ],
   "source": [
    "# slices\n",
    "a = np.array([[1,2,3], [4,5,6]])\n",
    "\n",
    "print('a')\n",
    "print(a)\n",
    "print(a.shape, '\\n')\n",
    "\n",
    "b = a[0:2,2] # seleciona um intervalo de valores nos arrays\n",
    "\n",
    "print('b')\n",
    "print(b)\n",
    "print(b.shape, '\\n')\n",
    "\n",
    "c = a[1,0:3]\n",
    "\n",
    "print('c')\n",
    "print(c)\n",
    "print(c.shape, '\\n')\n",
    "\n",
    "d = a[0:2,0:3]\n",
    "\n",
    "print('d')\n",
    "print(d)\n",
    "print(d.shape, '\\n')\n",
    "\n",
    "\n",
    "e = a[0:2:2,0:3:2]\n",
    "\n",
    "print('e')\n",
    "print(e)\n",
    "print(e.shape, '\\n')\n",
    "\n",
    "f = a[0,:]\n",
    "\n",
    "print('f')\n",
    "print(f)\n",
    "print(f.shape, '\\n')\n",
    "\n",
    "g = a[0,:1]\n",
    "\n",
    "print('g')\n",
    "print(g)\n",
    "print(g.shape, '\\n')\n",
    "\n",
    "h = a[0,1:]\n",
    "\n",
    "print('h')\n",
    "print(h)\n",
    "print(h.shape, '\\n')\n",
    "\n",
    "i = a[-1,1:]\n",
    "\n",
    "print('i')\n",
    "print(i)\n",
    "print(i.shape, '\\n')"
   ]
  },
  {
   "cell_type": "code",
   "execution_count": 25,
   "metadata": {
    "ExecuteTime": {
     "end_time": "2024-02-28T17:06:54.536707Z",
     "start_time": "2024-02-28T17:06:54.532302Z"
    }
   },
   "outputs": [
    {
     "name": "stdout",
     "output_type": "stream",
     "text": [
      "[1 2 3]\n",
      "[4 5 6]\n"
     ]
    }
   ],
   "source": [
    "# iterating\n",
    "a = np.array([[1,2,3], [4,5,6]])\n",
    "\n",
    "for row in a:\n",
    "    print(row) #dá print a cada linha "
   ]
  },
  {
   "cell_type": "markdown",
   "metadata": {},
   "source": [
    "## Manipulation\n",
    "\n",
    "One of the greatest advantages of using *NumPy* is the fact that one can easily manipulate\n",
    "an *array*!"
   ]
  },
  {
   "cell_type": "code",
   "execution_count": 2,
   "metadata": {
    "ExecuteTime": {
     "end_time": "2024-02-28T17:06:55.329218Z",
     "start_time": "2024-02-28T17:06:55.326765Z"
    }
   },
   "outputs": [
    {
     "name": "stdout",
     "output_type": "stream",
     "text": [
      "a\n",
      "[[1 2 3]\n",
      " [4 5 6]]\n",
      "(2, 3) \n",
      "\n"
     ]
    },
    {
     "ename": "TypeError",
     "evalue": "'numpy.flatiter' object is not callable",
     "output_type": "error",
     "traceback": [
      "\u001b[1;31m---------------------------------------------------------------------------\u001b[0m",
      "\u001b[1;31mTypeError\u001b[0m                                 Traceback (most recent call last)",
      "Cell \u001b[1;32mIn[2], line 9\u001b[0m\n\u001b[0;32m      6\u001b[0m \u001b[38;5;28mprint\u001b[39m(a\u001b[38;5;241m.\u001b[39mshape, \u001b[38;5;124m'\u001b[39m\u001b[38;5;130;01m\\n\u001b[39;00m\u001b[38;5;124m'\u001b[39m)\n\u001b[0;32m      8\u001b[0m b \u001b[38;5;241m=\u001b[39m a\u001b[38;5;241m.\u001b[39mravel()\n\u001b[1;32m----> 9\u001b[0m g \u001b[38;5;241m=\u001b[39m \u001b[43ma\u001b[49m\u001b[38;5;241;43m.\u001b[39;49m\u001b[43mflat\u001b[49m\u001b[43m(\u001b[49m\u001b[43m)\u001b[49m\n\u001b[0;32m     10\u001b[0m \u001b[38;5;28mprint\u001b[39m(g)\n\u001b[0;32m     11\u001b[0m \u001b[38;5;28mprint\u001b[39m(\u001b[38;5;124m'\u001b[39m\u001b[38;5;124mb\u001b[39m\u001b[38;5;124m'\u001b[39m)\n",
      "\u001b[1;31mTypeError\u001b[0m: 'numpy.flatiter' object is not callable"
     ]
    }
   ],
   "source": [
    "# flatten\n",
    "a = np.array([[1,2,3], [4,5,6]])\n",
    "\n",
    "print('a')\n",
    "print(a)\n",
    "print(a.shape, '\\n')\n",
    "\n",
    "b = a.ravel()\n",
    "g = a.flat()\n",
    "print(g)\n",
    "print('b')\n",
    "print(b)\n",
    "print(b.shape)"
   ]
  },
  {
   "cell_type": "code",
   "execution_count": 27,
   "metadata": {
    "ExecuteTime": {
     "end_time": "2024-02-28T17:06:55.678683Z",
     "start_time": "2024-02-28T17:06:55.674901Z"
    }
   },
   "outputs": [
    {
     "name": "stdout",
     "output_type": "stream",
     "text": [
      "a\n",
      "[[1 2 3]\n",
      " [4 5 6]]\n",
      "(2, 3) \n",
      "\n",
      "b\n",
      "[[1 4]\n",
      " [2 5]\n",
      " [3 6]]\n",
      "(3, 2)\n"
     ]
    }
   ],
   "source": [
    "# transpose\n",
    "\n",
    "a = np.array([[1,2,3], [4,5,6]])\n",
    "\n",
    "print('a')\n",
    "print(a)\n",
    "print(a.shape, '\\n')\n",
    "\n",
    "b = a.T # faz a transposta\n",
    "\n",
    "\n",
    "print('b')\n",
    "print(b)\n",
    "print(b.shape)"
   ]
  },
  {
   "cell_type": "code",
   "execution_count": 28,
   "metadata": {
    "ExecuteTime": {
     "end_time": "2024-02-28T17:06:56.094971Z",
     "start_time": "2024-02-28T17:06:56.087688Z"
    }
   },
   "outputs": [
    {
     "name": "stdout",
     "output_type": "stream",
     "text": [
      "a\n",
      "[[1 2 3]\n",
      " [4 5 6]]\n",
      "(2, 3) \n",
      "\n",
      "b\n",
      "[[1 2]\n",
      " [3 4]\n",
      " [5 6]]\n",
      "(3, 2)\n"
     ]
    }
   ],
   "source": [
    "# reshape\n",
    "\n",
    "a = np.array([[1,2,3], [4,5,6]])\n",
    "\n",
    "print('a')\n",
    "print(a)\n",
    "print(a.shape, '\\n')\n",
    "\n",
    "new_shape = (3,2)\n",
    "b = a.reshape(new_shape)\n",
    "\n",
    "print('b')\n",
    "print(b)\n",
    "print(b.shape)"
   ]
  },
  {
   "cell_type": "markdown",
   "metadata": {},
   "source": [
    "Notice the difference between *reshape* and *transpose*!!!"
   ]
  },
  {
   "cell_type": "code",
   "execution_count": 29,
   "metadata": {
    "ExecuteTime": {
     "end_time": "2024-02-28T17:06:57.083891Z",
     "start_time": "2024-02-28T17:06:57.082446Z"
    }
   },
   "outputs": [
    {
     "name": "stdout",
     "output_type": "stream",
     "text": [
      "a\n",
      "[[1 2 3]\n",
      " [4 5 6]]\n",
      "(2, 3) \n",
      "\n",
      "b\n",
      "[[1 2 3]\n",
      " [4 5 6]]\n",
      "(2, 3) \n",
      "\n",
      "c\n",
      "[[1 2 3]\n",
      " [4 5 6]\n",
      " [1 2 3]\n",
      " [4 5 6]]\n",
      "(4, 3)\n"
     ]
    }
   ],
   "source": [
    "# vertical stacking  - Pega na primeira matriz e coloca a segunda por baixo\n",
    "\n",
    "a = np.array([[1,2,3], [4,5,6]])\n",
    "\n",
    "print('a')\n",
    "print(a)\n",
    "print(a.shape, '\\n')\n",
    "\n",
    "b = np.array([[1,2,3], [4,5,6]])\n",
    "\n",
    "print('b')\n",
    "print(b)\n",
    "print(b.shape, '\\n')\n",
    "\n",
    "arrays_to_stack = [a, b]\n",
    "c = np.vstack(arrays_to_stack)\n",
    "\n",
    "print('c')\n",
    "print(c)\n",
    "print(c.shape)"
   ]
  },
  {
   "cell_type": "code",
   "execution_count": 30,
   "metadata": {
    "ExecuteTime": {
     "end_time": "2024-02-28T17:06:57.448854Z",
     "start_time": "2024-02-28T17:06:57.444886Z"
    }
   },
   "outputs": [
    {
     "name": "stdout",
     "output_type": "stream",
     "text": [
      "a\n",
      "[[1 2 3]\n",
      " [4 5 6]]\n",
      "(2, 3) \n",
      "\n",
      "b\n",
      "[[1 2 3]\n",
      " [4 5 6]]\n",
      "(2, 3) \n",
      "\n",
      "c\n",
      "[[1 2 3 1 2 3]\n",
      " [4 5 6 4 5 6]]\n",
      "(2, 6)\n"
     ]
    }
   ],
   "source": [
    "# horizontal stacking - pega na primeira matriz a adiciona ao lado da segunda\n",
    "\n",
    "a = np.array([[1,2,3], [4,5,6]])\n",
    "\n",
    "print('a')\n",
    "print(a)\n",
    "print(a.shape, '\\n')\n",
    "\n",
    "b = np.array([[1,2,3], [4,5,6]])\n",
    "\n",
    "print('b')\n",
    "print(b)\n",
    "print(b.shape, '\\n')\n",
    "\n",
    "arrays_to_stack = [a, b]\n",
    "c = np.hstack(arrays_to_stack)\n",
    "\n",
    "print('c')\n",
    "print(c)\n",
    "print(c.shape)"
   ]
  },
  {
   "cell_type": "code",
   "execution_count": 31,
   "metadata": {
    "ExecuteTime": {
     "end_time": "2024-02-28T17:06:57.900893Z",
     "start_time": "2024-02-28T17:06:57.897639Z"
    }
   },
   "outputs": [
    {
     "name": "stdout",
     "output_type": "stream",
     "text": [
      "a\n",
      "[[1 2 3]\n",
      " [4 5 6]]\n",
      "(2, 3) \n",
      "\n",
      "b\n",
      "[[1 2 3]\n",
      " [4 5 6]]\n",
      "(2, 3) \n",
      "\n",
      "c\n",
      "[[1 2 3]\n",
      " [4 5 6]\n",
      " [1 2 3]\n",
      " [4 5 6]]\n",
      "(4, 3) \n",
      "\n",
      "d\n",
      "[[1 2 3 1 2 3]\n",
      " [4 5 6 4 5 6]]\n",
      "(2, 6)\n"
     ]
    }
   ],
   "source": [
    "# concatenate\n",
    "\n",
    "a = np.array([[1,2,3], [4,5,6]])\n",
    "\n",
    "print('a')\n",
    "print(a)\n",
    "print(a.shape, '\\n')\n",
    "\n",
    "b = np.array([[1,2,3], [4,5,6]])\n",
    "\n",
    "print('b')\n",
    "print(b)\n",
    "print(b.shape, '\\n')\n",
    "\n",
    "arrays_to_stack = [a, b]\n",
    "c = np.concatenate(arrays_to_stack)\n",
    "\n",
    "print('c')\n",
    "print(c)\n",
    "print(c.shape, '\\n')\n",
    "\n",
    "arrays_to_stack = [a, b]\n",
    "d = np.concatenate(arrays_to_stack, axis=1)\n",
    "\n",
    "print('d')\n",
    "print(d)\n",
    "print(d.shape)"
   ]
  },
  {
   "cell_type": "markdown",
   "metadata": {},
   "source": [
    "*concatenate* is the same as *hstack* or *vstack*!"
   ]
  },
  {
   "cell_type": "code",
   "execution_count": 32,
   "metadata": {
    "ExecuteTime": {
     "end_time": "2024-02-28T17:06:58.577747Z",
     "start_time": "2024-02-28T17:06:58.571220Z"
    }
   },
   "outputs": [
    {
     "name": "stdout",
     "output_type": "stream",
     "text": [
      "a\n",
      "[[1 2 3]\n",
      " [4 5 6]]\n",
      "(2, 3) \n",
      "\n",
      "b\n",
      "[[1]\n",
      " [4]]\n",
      "[[2]\n",
      " [5]]\n",
      "[[3]\n",
      " [6]]\n",
      "3 \n",
      "\n",
      "c\n",
      "[[1 2 3]]\n",
      "[[4 5 6]]\n",
      "2\n"
     ]
    }
   ],
   "source": [
    "# split\n",
    "\n",
    "a = np.array([[1,2,3], [4,5,6]])\n",
    "\n",
    "print('a')\n",
    "print(a)\n",
    "print(a.shape, '\\n')\n",
    "\n",
    "b = np.hsplit(a, 3) # colocamos a coluna que queremos fazer o split\n",
    "print('b')\n",
    "for array in b:\n",
    "    print(array)\n",
    "print(len(b), '\\n')\n",
    "\n",
    "c = np.vsplit(a, 2)\n",
    "print('c')\n",
    "for array in c:\n",
    "    print(array)\n",
    "print(len(c))"
   ]
  },
  {
   "cell_type": "markdown",
   "metadata": {},
   "source": [
    "## Copies and views\n",
    "\n",
    "`b = a` is not copying\n",
    "\n",
    "`b = a[0,2]` is just a view\n",
    "\n",
    "`b = a.copy()` finally we have a copy"
   ]
  },
  {
   "cell_type": "code",
   "execution_count": 33,
   "metadata": {
    "ExecuteTime": {
     "end_time": "2024-02-28T17:06:59.438825Z",
     "start_time": "2024-02-28T17:06:59.435536Z"
    }
   },
   "outputs": [
    {
     "name": "stdout",
     "output_type": "stream",
     "text": [
      "a\n",
      "[[1 2 3]\n",
      " [4 5 6]]\n",
      "(2, 3) \n",
      "\n",
      "True \n",
      "\n",
      "a\n",
      "[[1 2 3]\n",
      " [4 5 6]]\n",
      "b\n",
      "[1 2 3]\n",
      "a\n",
      "[[100   2   3]\n",
      " [  4   5   6]]\n",
      "b\n",
      "[100   2   3] \n",
      "\n",
      "b\n",
      "False\n",
      "[[1 2 3]\n",
      " [4 5 6]]\n",
      "a\n",
      "[[1 2 3]\n",
      " [4 5 6]]\n",
      "b\n",
      "[[100   2   3]\n",
      " [  4   5   6]]\n"
     ]
    }
   ],
   "source": [
    "a = np.array([[1,2,3], [4,5,6]])  # ter cuidado com apontadores\n",
    "\n",
    "print('a')\n",
    "print(a)\n",
    "print(a.shape, '\\n')\n",
    "\n",
    "# assignement\n",
    "b = a\n",
    "print(b is a, '\\n')\n",
    "\n",
    "#indexing/slicing\n",
    "a = np.array([[1,2,3], [4,5,6]])\n",
    "print('a')\n",
    "print(a)\n",
    "\n",
    "b = a[0, :]\n",
    "print('b')\n",
    "print(b)\n",
    "\n",
    "b[0] = 100\n",
    "print('a')\n",
    "print(a)\n",
    "print('b')\n",
    "print(b, '\\n')\n",
    "\n",
    "# copy\n",
    "a = np.array([[1,2,3], [4,5,6]])\n",
    "b = a.copy()\n",
    "print('b')\n",
    "print(b is a)\n",
    "print(b)\n",
    "\n",
    "b[0, 0] = 100\n",
    "print('a')\n",
    "print(a)\n",
    "print('b')\n",
    "print(b)\n"
   ]
  },
  {
   "cell_type": "markdown",
   "metadata": {},
   "source": [
    "## Useful hints"
   ]
  },
  {
   "cell_type": "code",
   "execution_count": 34,
   "metadata": {
    "ExecuteTime": {
     "end_time": "2024-02-28T17:07:00.158859Z",
     "start_time": "2024-02-28T17:07:00.149278Z"
    }
   },
   "outputs": [
    {
     "name": "stdout",
     "output_type": "stream",
     "text": [
      "a\n",
      "[[1 2 3]\n",
      " [4 5 6]]\n",
      "(2, 3) \n",
      "\n",
      "boolean_mask_b a > 4\n",
      "[[False False False]\n",
      " [False  True  True]]\n",
      "(2, 3) \n",
      "\n",
      "b\n",
      "[5 6]\n",
      "(2,) \n",
      "\n",
      "boolean_mask_c a == 4\n",
      "[[False False False]\n",
      " [ True False False]]\n",
      "(2, 3) \n",
      "\n",
      "c\n",
      "[4]\n",
      "(1,) \n",
      "\n",
      "boolean_mask_d a == 4 but inverse\n",
      "[[False False False]\n",
      " [ True False False]]\n",
      "(2, 3) \n",
      "\n",
      "d\n",
      "[1 2 3 5 6]\n",
      "(5,)\n"
     ]
    }
   ],
   "source": [
    "# boolean mask indexing\n",
    "\n",
    "a = np.array([[1,2,3], [4,5,6]])\n",
    "\n",
    "print('a')\n",
    "print(a)\n",
    "print(a.shape, '\\n')\n",
    "\n",
    "boolean_mask_b = a > 4\n",
    "print('boolean_mask_b a > 4')\n",
    "print(boolean_mask_b)\n",
    "print(boolean_mask_b.shape, '\\n')\n",
    "\n",
    "b = a[boolean_mask_b]\n",
    "\n",
    "print('b')\n",
    "print(b)\n",
    "print(b.shape, '\\n')\n",
    "\n",
    "boolean_mask_c = a == 4\n",
    "print('boolean_mask_c a == 4')\n",
    "print(boolean_mask_c)\n",
    "print(boolean_mask_c.shape, '\\n')\n",
    "\n",
    "c = a[boolean_mask_c]\n",
    "\n",
    "print('c')\n",
    "print(c)\n",
    "print(c.shape, '\\n')\n",
    "\n",
    "\n",
    "boolean_mask_d = a == 4\n",
    "print('boolean_mask_d a == 4 but inverse')\n",
    "print(boolean_mask_d)\n",
    "print(boolean_mask_d.shape, '\\n')\n",
    "\n",
    "d = a[~boolean_mask_d]\n",
    "\n",
    "print('d')\n",
    "print(d)\n",
    "print(d.shape)"
   ]
  },
  {
   "cell_type": "code",
   "execution_count": 35,
   "metadata": {
    "ExecuteTime": {
     "end_time": "2024-02-28T17:07:00.573815Z",
     "start_time": "2024-02-28T17:07:00.570691Z"
    }
   },
   "outputs": [
    {
     "name": "stdout",
     "output_type": "stream",
     "text": [
      "[[1. 0.]\n",
      " [0. 1.]] \n",
      "\n",
      "[[1. 0. 0. 0.]\n",
      " [0. 1. 0. 0.]\n",
      " [0. 0. 1. 0.]\n",
      " [0. 0. 0. 1.]]\n"
     ]
    }
   ],
   "source": [
    "# identity matrices\n",
    "print(np.eye(2), '\\n')\n",
    "print(np.eye(4))"
   ]
  },
  {
   "cell_type": "code",
   "execution_count": 3,
   "metadata": {
    "ExecuteTime": {
     "end_time": "2024-02-28T17:07:00.920601Z",
     "start_time": "2024-02-28T17:07:00.909788Z"
    },
    "pycharm": {
     "name": "#%%\n"
    }
   },
   "outputs": [
    {
     "name": "stdout",
     "output_type": "stream",
     "text": [
      "a\n",
      "[[1 2 3]\n",
      " [4 5 6]]\n",
      "(2, 3) \n",
      "\n",
      "b\n",
      "[[1 2]\n",
      " [3 4]\n",
      " [5 6]]\n",
      "(3, 2) \n",
      "\n",
      "c\n",
      "[[22 28]\n",
      " [49 64]]\n",
      "(2, 2) \n",
      "\n",
      "d\n",
      "[[22 28]\n",
      " [49 64]]\n",
      "(2, 2)\n"
     ]
    }
   ],
   "source": [
    "# np.dot is the same as the operator @\n",
    "\n",
    "a = np.array([[1,2,3], [4,5,6]])\n",
    "\n",
    "print('a')\n",
    "print(a)\n",
    "print(a.shape, '\\n')\n",
    "\n",
    "b = np.array([[1,2], [3,4], [5,6]])\n",
    "\n",
    "print('b')\n",
    "print(b)\n",
    "print(b.shape, '\\n')\n",
    "\n",
    "c = np.dot(a, b)\n",
    "\n",
    "print('c')\n",
    "print(c)\n",
    "print(c.shape, '\\n')\n",
    "\n",
    "d = a @ b\n",
    "\n",
    "print('d')\n",
    "print(d)\n",
    "print(d.shape)"
   ]
  },
  {
   "cell_type": "code",
   "execution_count": null,
   "metadata": {},
   "outputs": [],
   "source": []
  }
 ],
 "metadata": {
  "kernelspec": {
   "display_name": "Python 3",
   "language": "python",
   "name": "python3"
  },
  "language_info": {
   "codemirror_mode": {
    "name": "ipython",
    "version": 3
   },
   "file_extension": ".py",
   "mimetype": "text/x-python",
   "name": "python",
   "nbconvert_exporter": "python",
   "pygments_lexer": "ipython3",
   "version": "3.12.0"
  }
 },
 "nbformat": 4,
 "nbformat_minor": 4
}
